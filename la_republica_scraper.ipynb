{
 "cells": [
  {
   "cell_type": "code",
   "execution_count": 4,
   "metadata": {},
   "outputs": [],
   "source": [
    "import requests\n",
    "import lxml.html as html"
   ]
  },
  {
   "cell_type": "code",
   "execution_count": 32,
   "metadata": {},
   "outputs": [],
   "source": [
    "# Creamos constantes\n",
    "\n",
    "HOME_URL = 'https://www.larepublica.co/'\n",
    "\n",
    "XPATH_LINK_TO_ARTICLE = '//div/h2[not(@class)]/a/@href'\n",
    "XPATH_LINK_TO_TITLE = '//div/div/div/div/div/h1/text()'\n",
    "XPATH_LINK_TO_SUMMARY = '//div[@class=\"wrap-post col-9\"]/div/div[@class=\"lead\"]/p/text()'\n",
    "XPATH_LINK_TO_BODY = '//div[@class=\"html-content\"]/p[not(@class)]/text()'"
   ]
  },
  {
   "cell_type": "code",
   "execution_count": 29,
   "metadata": {},
   "outputs": [],
   "source": [
    "# Creamos las funcioens para ejecutar el script.\n",
    "\n",
    "def parse_home():\n",
    "    # Creamos un bloque try para manejar los errores. Y manejar los Status Code.\n",
    "    try:\n",
    "        response = requests.get(HOME_URL)\n",
    "        # Aqui va la lógica para traer los links.\n",
    "        if response.status_code == 200:\n",
    "            # .content trae  el HTML que necesita ser traducido con un decode para que python lo entienda\n",
    "            # en terminos de caracteres, me devuelve un string que no es más que el HTML crudo.\n",
    "            home = response.content.decode('utf-8')\n",
    "            parsed = html.fromstring(home)\n",
    "            links_to_notices = parsed.xpath(XPATH_LINK_TO_ARTICLE)\n",
    "            return links_to_notices\n",
    "        else:\n",
    "            raise ValueError(f'Error: {response.status_code}')\n",
    "    except ValueError as ve:\n",
    "        print(ve)"
   ]
  },
  {
   "cell_type": "code",
   "execution_count": 18,
   "metadata": {},
   "outputs": [],
   "source": [
    "def parse_specs(links):\n",
    "    for link in links:\n",
    "        try:\n",
    "            response=requests.get(link)\n",
    "            if response.status_code==200:\n",
    "                inside=response.content.decode('utf-8')\n",
    "                parsed=html.fromstring(inside)\n",
    "                links_to_title = parsed.xpath(XPATH_LINK_TO_TITLE)\n",
    "                print(links_to_title)\n",
    "            else:\n",
    "                raise ValueError(f'Error: {response.status_code}')\n",
    "        except ValueError as ve:\n",
    "             print(ve)"
   ]
  },
  {
   "cell_type": "code",
   "execution_count": 33,
   "metadata": {},
   "outputs": [
    {
     "name": "stdout",
     "output_type": "stream",
     "text": [
      "['Fintech para la inclusión']\n",
      "['Zonas Francas 2022']\n",
      "['Especial Elecciones Presidenciales 2022']\n"
     ]
    }
   ],
   "source": [
    "def run():\n",
    "    links=parse_home()\n",
    "    parse_specs(links)\n",
    "\n",
    "\n",
    "if __name__ == '__main__':\n",
    "    run()"
   ]
  }
 ],
 "metadata": {
  "interpreter": {
   "hash": "8002bedf9a94ee793c12e0954d6e4653779deb5a25e8bf088b2019dddc2e5220"
  },
  "kernelspec": {
   "display_name": "Python 3.9.12 ('data_analysis')",
   "language": "python",
   "name": "python3"
  },
  "language_info": {
   "codemirror_mode": {
    "name": "ipython",
    "version": 3
   },
   "file_extension": ".py",
   "mimetype": "text/x-python",
   "name": "python",
   "nbconvert_exporter": "python",
   "pygments_lexer": "ipython3",
   "version": "3.9.12"
  },
  "orig_nbformat": 4
 },
 "nbformat": 4,
 "nbformat_minor": 2
}
